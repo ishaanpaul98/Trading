{
  "nbformat": 4,
  "nbformat_minor": 0,
  "metadata": {
    "colab": {
      "name": "Bollinger_Band_test.ipynb",
      "provenance": [],
      "authorship_tag": "ABX9TyNa0kCItO0kTYzC95/MpapK",
      "include_colab_link": true
    },
    "kernelspec": {
      "name": "python3",
      "display_name": "Python 3"
    },
    "language_info": {
      "name": "python"
    }
  },
  "cells": [
    {
      "cell_type": "markdown",
      "metadata": {
        "id": "view-in-github",
        "colab_type": "text"
      },
      "source": [
        "<a href=\"https://colab.research.google.com/github/ishaanpaul98/Trading/blob/main/Trading/Bollinger_Band.ipynb\" target=\"_parent\"><img src=\"https://colab.research.google.com/assets/colab-badge.svg\" alt=\"Open In Colab\"/></a>"
      ]
    },
    {
      "cell_type": "code",
      "source": [
        "#!pip install yfinance"
      ],
      "metadata": {
        "id": "cYN-Pq8Qq7xj"
      },
      "execution_count": 1,
      "outputs": []
    },
    {
      "cell_type": "code",
      "execution_count": 2,
      "metadata": {
        "id": "QJxZ5bWxqvKg"
      },
      "outputs": [],
      "source": [
        "import yfinance as yf\n",
        "import numpy as np\n",
        "import pandas as pd\n",
        "import matplotlib.pyplot as plt"
      ]
    },
    {
      "cell_type": "code",
      "source": [
        "ticker = input(\"Enter ticker for desired company: \")\n",
        "df = yf.download(ticker, start = '2019-01-01')"
      ],
      "metadata": {
        "colab": {
          "base_uri": "https://localhost:8080/"
        },
        "id": "PY-fJaAzq28M",
        "outputId": "b373390b-c3ae-4d1c-f922-0a84d630a583"
      },
      "execution_count": 3,
      "outputs": [
        {
          "output_type": "stream",
          "name": "stdout",
          "text": [
            "Enter ticker for desired company: FB\n",
            "[*********************100%***********************]  1 of 1 completed\n"
          ]
        }
      ]
    },
    {
      "cell_type": "code",
      "source": [
        "df"
      ],
      "metadata": {
        "colab": {
          "base_uri": "https://localhost:8080/",
          "height": 455
        },
        "id": "qgaMNST1rIfY",
        "outputId": "b6b0b19e-fac8-42f5-ce9e-b9b5423ca29c"
      },
      "execution_count": 4,
      "outputs": [
        {
          "output_type": "execute_result",
          "data": {
            "text/plain": [
              "                  Open        High         Low       Close   Adj Close  \\\n",
              "Date                                                                     \n",
              "2019-01-02  128.990005  137.509995  128.559998  135.679993  135.679993   \n",
              "2019-01-03  134.690002  137.169998  131.119995  131.740005  131.740005   \n",
              "2019-01-04  134.009995  138.000000  133.750000  137.949997  137.949997   \n",
              "2019-01-07  137.559998  138.869995  135.910004  138.050003  138.050003   \n",
              "2019-01-08  139.889999  143.139999  139.539993  142.529999  142.529999   \n",
              "...                ...         ...         ...         ...         ...   \n",
              "2022-04-01  224.550003  227.279999  222.699997  224.850006  224.850006   \n",
              "2022-04-04  225.979996  234.350006  225.860001  233.889999  233.889999   \n",
              "2022-04-05  234.080002  236.860001  231.020004  231.839996  231.839996   \n",
              "2022-04-06  226.910004  228.990005  221.410004  223.300003  223.300003   \n",
              "2022-04-07  223.929993  225.520004  218.559998  222.949997  222.949997   \n",
              "\n",
              "              Volume  \n",
              "Date                  \n",
              "2019-01-02  28146200  \n",
              "2019-01-03  22717900  \n",
              "2019-01-04  29002100  \n",
              "2019-01-07  20089300  \n",
              "2019-01-08  26263800  \n",
              "...              ...  \n",
              "2022-04-01  19533300  \n",
              "2022-04-04  28054800  \n",
              "2022-04-05  29727200  \n",
              "2022-04-06  28995100  \n",
              "2022-04-07  21023900  \n",
              "\n",
              "[824 rows x 6 columns]"
            ],
            "text/html": [
              "\n",
              "  <div id=\"df-d14d16c7-aa0b-4ba8-9451-5b640f3a32fc\">\n",
              "    <div class=\"colab-df-container\">\n",
              "      <div>\n",
              "<style scoped>\n",
              "    .dataframe tbody tr th:only-of-type {\n",
              "        vertical-align: middle;\n",
              "    }\n",
              "\n",
              "    .dataframe tbody tr th {\n",
              "        vertical-align: top;\n",
              "    }\n",
              "\n",
              "    .dataframe thead th {\n",
              "        text-align: right;\n",
              "    }\n",
              "</style>\n",
              "<table border=\"1\" class=\"dataframe\">\n",
              "  <thead>\n",
              "    <tr style=\"text-align: right;\">\n",
              "      <th></th>\n",
              "      <th>Open</th>\n",
              "      <th>High</th>\n",
              "      <th>Low</th>\n",
              "      <th>Close</th>\n",
              "      <th>Adj Close</th>\n",
              "      <th>Volume</th>\n",
              "    </tr>\n",
              "    <tr>\n",
              "      <th>Date</th>\n",
              "      <th></th>\n",
              "      <th></th>\n",
              "      <th></th>\n",
              "      <th></th>\n",
              "      <th></th>\n",
              "      <th></th>\n",
              "    </tr>\n",
              "  </thead>\n",
              "  <tbody>\n",
              "    <tr>\n",
              "      <th>2019-01-02</th>\n",
              "      <td>128.990005</td>\n",
              "      <td>137.509995</td>\n",
              "      <td>128.559998</td>\n",
              "      <td>135.679993</td>\n",
              "      <td>135.679993</td>\n",
              "      <td>28146200</td>\n",
              "    </tr>\n",
              "    <tr>\n",
              "      <th>2019-01-03</th>\n",
              "      <td>134.690002</td>\n",
              "      <td>137.169998</td>\n",
              "      <td>131.119995</td>\n",
              "      <td>131.740005</td>\n",
              "      <td>131.740005</td>\n",
              "      <td>22717900</td>\n",
              "    </tr>\n",
              "    <tr>\n",
              "      <th>2019-01-04</th>\n",
              "      <td>134.009995</td>\n",
              "      <td>138.000000</td>\n",
              "      <td>133.750000</td>\n",
              "      <td>137.949997</td>\n",
              "      <td>137.949997</td>\n",
              "      <td>29002100</td>\n",
              "    </tr>\n",
              "    <tr>\n",
              "      <th>2019-01-07</th>\n",
              "      <td>137.559998</td>\n",
              "      <td>138.869995</td>\n",
              "      <td>135.910004</td>\n",
              "      <td>138.050003</td>\n",
              "      <td>138.050003</td>\n",
              "      <td>20089300</td>\n",
              "    </tr>\n",
              "    <tr>\n",
              "      <th>2019-01-08</th>\n",
              "      <td>139.889999</td>\n",
              "      <td>143.139999</td>\n",
              "      <td>139.539993</td>\n",
              "      <td>142.529999</td>\n",
              "      <td>142.529999</td>\n",
              "      <td>26263800</td>\n",
              "    </tr>\n",
              "    <tr>\n",
              "      <th>...</th>\n",
              "      <td>...</td>\n",
              "      <td>...</td>\n",
              "      <td>...</td>\n",
              "      <td>...</td>\n",
              "      <td>...</td>\n",
              "      <td>...</td>\n",
              "    </tr>\n",
              "    <tr>\n",
              "      <th>2022-04-01</th>\n",
              "      <td>224.550003</td>\n",
              "      <td>227.279999</td>\n",
              "      <td>222.699997</td>\n",
              "      <td>224.850006</td>\n",
              "      <td>224.850006</td>\n",
              "      <td>19533300</td>\n",
              "    </tr>\n",
              "    <tr>\n",
              "      <th>2022-04-04</th>\n",
              "      <td>225.979996</td>\n",
              "      <td>234.350006</td>\n",
              "      <td>225.860001</td>\n",
              "      <td>233.889999</td>\n",
              "      <td>233.889999</td>\n",
              "      <td>28054800</td>\n",
              "    </tr>\n",
              "    <tr>\n",
              "      <th>2022-04-05</th>\n",
              "      <td>234.080002</td>\n",
              "      <td>236.860001</td>\n",
              "      <td>231.020004</td>\n",
              "      <td>231.839996</td>\n",
              "      <td>231.839996</td>\n",
              "      <td>29727200</td>\n",
              "    </tr>\n",
              "    <tr>\n",
              "      <th>2022-04-06</th>\n",
              "      <td>226.910004</td>\n",
              "      <td>228.990005</td>\n",
              "      <td>221.410004</td>\n",
              "      <td>223.300003</td>\n",
              "      <td>223.300003</td>\n",
              "      <td>28995100</td>\n",
              "    </tr>\n",
              "    <tr>\n",
              "      <th>2022-04-07</th>\n",
              "      <td>223.929993</td>\n",
              "      <td>225.520004</td>\n",
              "      <td>218.559998</td>\n",
              "      <td>222.949997</td>\n",
              "      <td>222.949997</td>\n",
              "      <td>21023900</td>\n",
              "    </tr>\n",
              "  </tbody>\n",
              "</table>\n",
              "<p>824 rows × 6 columns</p>\n",
              "</div>\n",
              "      <button class=\"colab-df-convert\" onclick=\"convertToInteractive('df-d14d16c7-aa0b-4ba8-9451-5b640f3a32fc')\"\n",
              "              title=\"Convert this dataframe to an interactive table.\"\n",
              "              style=\"display:none;\">\n",
              "        \n",
              "  <svg xmlns=\"http://www.w3.org/2000/svg\" height=\"24px\"viewBox=\"0 0 24 24\"\n",
              "       width=\"24px\">\n",
              "    <path d=\"M0 0h24v24H0V0z\" fill=\"none\"/>\n",
              "    <path d=\"M18.56 5.44l.94 2.06.94-2.06 2.06-.94-2.06-.94-.94-2.06-.94 2.06-2.06.94zm-11 1L8.5 8.5l.94-2.06 2.06-.94-2.06-.94L8.5 2.5l-.94 2.06-2.06.94zm10 10l.94 2.06.94-2.06 2.06-.94-2.06-.94-.94-2.06-.94 2.06-2.06.94z\"/><path d=\"M17.41 7.96l-1.37-1.37c-.4-.4-.92-.59-1.43-.59-.52 0-1.04.2-1.43.59L10.3 9.45l-7.72 7.72c-.78.78-.78 2.05 0 2.83L4 21.41c.39.39.9.59 1.41.59.51 0 1.02-.2 1.41-.59l7.78-7.78 2.81-2.81c.8-.78.8-2.07 0-2.86zM5.41 20L4 18.59l7.72-7.72 1.47 1.35L5.41 20z\"/>\n",
              "  </svg>\n",
              "      </button>\n",
              "      \n",
              "  <style>\n",
              "    .colab-df-container {\n",
              "      display:flex;\n",
              "      flex-wrap:wrap;\n",
              "      gap: 12px;\n",
              "    }\n",
              "\n",
              "    .colab-df-convert {\n",
              "      background-color: #E8F0FE;\n",
              "      border: none;\n",
              "      border-radius: 50%;\n",
              "      cursor: pointer;\n",
              "      display: none;\n",
              "      fill: #1967D2;\n",
              "      height: 32px;\n",
              "      padding: 0 0 0 0;\n",
              "      width: 32px;\n",
              "    }\n",
              "\n",
              "    .colab-df-convert:hover {\n",
              "      background-color: #E2EBFA;\n",
              "      box-shadow: 0px 1px 2px rgba(60, 64, 67, 0.3), 0px 1px 3px 1px rgba(60, 64, 67, 0.15);\n",
              "      fill: #174EA6;\n",
              "    }\n",
              "\n",
              "    [theme=dark] .colab-df-convert {\n",
              "      background-color: #3B4455;\n",
              "      fill: #D2E3FC;\n",
              "    }\n",
              "\n",
              "    [theme=dark] .colab-df-convert:hover {\n",
              "      background-color: #434B5C;\n",
              "      box-shadow: 0px 1px 3px 1px rgba(0, 0, 0, 0.15);\n",
              "      filter: drop-shadow(0px 1px 2px rgba(0, 0, 0, 0.3));\n",
              "      fill: #FFFFFF;\n",
              "    }\n",
              "  </style>\n",
              "\n",
              "      <script>\n",
              "        const buttonEl =\n",
              "          document.querySelector('#df-d14d16c7-aa0b-4ba8-9451-5b640f3a32fc button.colab-df-convert');\n",
              "        buttonEl.style.display =\n",
              "          google.colab.kernel.accessAllowed ? 'block' : 'none';\n",
              "\n",
              "        async function convertToInteractive(key) {\n",
              "          const element = document.querySelector('#df-d14d16c7-aa0b-4ba8-9451-5b640f3a32fc');\n",
              "          const dataTable =\n",
              "            await google.colab.kernel.invokeFunction('convertToInteractive',\n",
              "                                                     [key], {});\n",
              "          if (!dataTable) return;\n",
              "\n",
              "          const docLinkHtml = 'Like what you see? Visit the ' +\n",
              "            '<a target=\"_blank\" href=https://colab.research.google.com/notebooks/data_table.ipynb>data table notebook</a>'\n",
              "            + ' to learn more about interactive tables.';\n",
              "          element.innerHTML = '';\n",
              "          dataTable['output_type'] = 'display_data';\n",
              "          await google.colab.output.renderOutput(dataTable, element);\n",
              "          const docLink = document.createElement('div');\n",
              "          docLink.innerHTML = docLinkHtml;\n",
              "          element.appendChild(docLink);\n",
              "        }\n",
              "      </script>\n",
              "    </div>\n",
              "  </div>\n",
              "  "
            ]
          },
          "metadata": {},
          "execution_count": 4
        }
      ]
    },
    {
      "cell_type": "code",
      "source": [
        "window = input(\"Enter window for rolling average and standard deviation: \")\n",
        "window = int(window)"
      ],
      "metadata": {
        "colab": {
          "base_uri": "https://localhost:8080/"
        },
        "id": "A5UpZ_pZWNmX",
        "outputId": "3928e19e-eaec-4769-d723-ed051751f43c"
      },
      "execution_count": 5,
      "outputs": [
        {
          "name": "stdout",
          "output_type": "stream",
          "text": [
            "Enter window for rolling average and standard deviation: 20\n"
          ]
        }
      ]
    },
    {
      "cell_type": "code",
      "source": [
        "#Simple Moving Average\n",
        "df['SMA'] = df.Close.rolling(window=window).mean()"
      ],
      "metadata": {
        "id": "jTixPtqLrJth"
      },
      "execution_count": 6,
      "outputs": []
    },
    {
      "cell_type": "code",
      "source": [
        "#Standard Deviation\n",
        "df['stddev'] = df.Close.rolling(window=window).std()"
      ],
      "metadata": {
        "id": "adQOWPlArRRG"
      },
      "execution_count": 7,
      "outputs": []
    },
    {
      "cell_type": "code",
      "source": [
        "#Upper band\n",
        "df['Upper'] = df.SMA + 2*df.stddev"
      ],
      "metadata": {
        "id": "ppqPLoDorZyr"
      },
      "execution_count": 8,
      "outputs": []
    },
    {
      "cell_type": "code",
      "source": [
        "#Lower band\n",
        "df['Lower'] = df.SMA - 2*df.stddev"
      ],
      "metadata": {
        "id": "quMFBu35rk9x"
      },
      "execution_count": 9,
      "outputs": []
    },
    {
      "cell_type": "code",
      "source": [
        "#Buying signals\n",
        "df['Buy_Signal'] = np.where(df.Lower > df.Close, True, False)"
      ],
      "metadata": {
        "id": "ZhCd1yw_rpUK"
      },
      "execution_count": 10,
      "outputs": []
    },
    {
      "cell_type": "code",
      "source": [
        "#Selling signals\n",
        "df['Sell_Signal'] = np.where(df.Upper < df.Close, True, False)"
      ],
      "metadata": {
        "id": "YMcWyWDyr0RP"
      },
      "execution_count": 11,
      "outputs": []
    },
    {
      "cell_type": "code",
      "source": [
        "df = df.dropna()"
      ],
      "metadata": {
        "id": "Dh49yafir6Dj"
      },
      "execution_count": 12,
      "outputs": []
    },
    {
      "cell_type": "code",
      "source": [
        "df"
      ],
      "metadata": {
        "colab": {
          "base_uri": "https://localhost:8080/",
          "height": 455
        },
        "id": "cMajYKhZsCkW",
        "outputId": "6a20b936-d530-4731-dd86-d3b86ab68b18"
      },
      "execution_count": 13,
      "outputs": [
        {
          "output_type": "execute_result",
          "data": {
            "text/plain": [
              "                  Open        High         Low       Close   Adj Close  \\\n",
              "Date                                                                     \n",
              "2019-01-30  146.220001  150.949997  145.699997  150.419998  150.419998   \n",
              "2019-01-31  165.600006  171.679993  165.000000  166.690002  166.690002   \n",
              "2019-02-01  165.839996  169.100006  165.660004  165.710007  165.710007   \n",
              "2019-02-04  165.699997  169.300003  163.619995  169.250000  169.250000   \n",
              "2019-02-05  169.149994  171.979996  168.690002  171.160004  171.160004   \n",
              "...                ...         ...         ...         ...         ...   \n",
              "2022-04-01  224.550003  227.279999  222.699997  224.850006  224.850006   \n",
              "2022-04-04  225.979996  234.350006  225.860001  233.889999  233.889999   \n",
              "2022-04-05  234.080002  236.860001  231.020004  231.839996  231.839996   \n",
              "2022-04-06  226.910004  228.990005  221.410004  223.300003  223.300003   \n",
              "2022-04-07  223.929993  225.520004  218.559998  222.949997  222.949997   \n",
              "\n",
              "              Volume         SMA     stddev       Upper       Lower  \\\n",
              "Date                                                                  \n",
              "2019-01-30  44613200  144.359499   5.024985  154.409469  134.309530   \n",
              "2019-01-31  77233600  145.910000   6.708186  159.326372  132.493628   \n",
              "2019-02-01  30806500  147.608500   7.213105  162.034711  133.182289   \n",
              "2019-02-04  20036000  149.173500   8.318123  165.809746  132.537254   \n",
              "2019-02-05  22557000  150.829000   9.232360  169.293719  132.364281   \n",
              "...              ...         ...        ...         ...         ...   \n",
              "2022-04-01  19533300  208.860002  14.937720  238.735442  178.984563   \n",
              "2022-04-04  28054800  211.181002  15.045198  241.271398  181.090606   \n",
              "2022-04-05  29727200  213.258502  14.876406  243.011313  183.505691   \n",
              "2022-04-06  28995100  214.498502  14.612734  243.723970  185.273035   \n",
              "2022-04-07  21023900  215.885502  13.988744  243.862989  187.908014   \n",
              "\n",
              "            Buy_Signal  Sell_Signal  \n",
              "Date                                 \n",
              "2019-01-30       False        False  \n",
              "2019-01-31       False         True  \n",
              "2019-02-01       False         True  \n",
              "2019-02-04       False         True  \n",
              "2019-02-05       False         True  \n",
              "...                ...          ...  \n",
              "2022-04-01       False        False  \n",
              "2022-04-04       False        False  \n",
              "2022-04-05       False        False  \n",
              "2022-04-06       False        False  \n",
              "2022-04-07       False        False  \n",
              "\n",
              "[805 rows x 12 columns]"
            ],
            "text/html": [
              "\n",
              "  <div id=\"df-05c18e1e-92cb-4b91-b9ae-2590c0097ee1\">\n",
              "    <div class=\"colab-df-container\">\n",
              "      <div>\n",
              "<style scoped>\n",
              "    .dataframe tbody tr th:only-of-type {\n",
              "        vertical-align: middle;\n",
              "    }\n",
              "\n",
              "    .dataframe tbody tr th {\n",
              "        vertical-align: top;\n",
              "    }\n",
              "\n",
              "    .dataframe thead th {\n",
              "        text-align: right;\n",
              "    }\n",
              "</style>\n",
              "<table border=\"1\" class=\"dataframe\">\n",
              "  <thead>\n",
              "    <tr style=\"text-align: right;\">\n",
              "      <th></th>\n",
              "      <th>Open</th>\n",
              "      <th>High</th>\n",
              "      <th>Low</th>\n",
              "      <th>Close</th>\n",
              "      <th>Adj Close</th>\n",
              "      <th>Volume</th>\n",
              "      <th>SMA</th>\n",
              "      <th>stddev</th>\n",
              "      <th>Upper</th>\n",
              "      <th>Lower</th>\n",
              "      <th>Buy_Signal</th>\n",
              "      <th>Sell_Signal</th>\n",
              "    </tr>\n",
              "    <tr>\n",
              "      <th>Date</th>\n",
              "      <th></th>\n",
              "      <th></th>\n",
              "      <th></th>\n",
              "      <th></th>\n",
              "      <th></th>\n",
              "      <th></th>\n",
              "      <th></th>\n",
              "      <th></th>\n",
              "      <th></th>\n",
              "      <th></th>\n",
              "      <th></th>\n",
              "      <th></th>\n",
              "    </tr>\n",
              "  </thead>\n",
              "  <tbody>\n",
              "    <tr>\n",
              "      <th>2019-01-30</th>\n",
              "      <td>146.220001</td>\n",
              "      <td>150.949997</td>\n",
              "      <td>145.699997</td>\n",
              "      <td>150.419998</td>\n",
              "      <td>150.419998</td>\n",
              "      <td>44613200</td>\n",
              "      <td>144.359499</td>\n",
              "      <td>5.024985</td>\n",
              "      <td>154.409469</td>\n",
              "      <td>134.309530</td>\n",
              "      <td>False</td>\n",
              "      <td>False</td>\n",
              "    </tr>\n",
              "    <tr>\n",
              "      <th>2019-01-31</th>\n",
              "      <td>165.600006</td>\n",
              "      <td>171.679993</td>\n",
              "      <td>165.000000</td>\n",
              "      <td>166.690002</td>\n",
              "      <td>166.690002</td>\n",
              "      <td>77233600</td>\n",
              "      <td>145.910000</td>\n",
              "      <td>6.708186</td>\n",
              "      <td>159.326372</td>\n",
              "      <td>132.493628</td>\n",
              "      <td>False</td>\n",
              "      <td>True</td>\n",
              "    </tr>\n",
              "    <tr>\n",
              "      <th>2019-02-01</th>\n",
              "      <td>165.839996</td>\n",
              "      <td>169.100006</td>\n",
              "      <td>165.660004</td>\n",
              "      <td>165.710007</td>\n",
              "      <td>165.710007</td>\n",
              "      <td>30806500</td>\n",
              "      <td>147.608500</td>\n",
              "      <td>7.213105</td>\n",
              "      <td>162.034711</td>\n",
              "      <td>133.182289</td>\n",
              "      <td>False</td>\n",
              "      <td>True</td>\n",
              "    </tr>\n",
              "    <tr>\n",
              "      <th>2019-02-04</th>\n",
              "      <td>165.699997</td>\n",
              "      <td>169.300003</td>\n",
              "      <td>163.619995</td>\n",
              "      <td>169.250000</td>\n",
              "      <td>169.250000</td>\n",
              "      <td>20036000</td>\n",
              "      <td>149.173500</td>\n",
              "      <td>8.318123</td>\n",
              "      <td>165.809746</td>\n",
              "      <td>132.537254</td>\n",
              "      <td>False</td>\n",
              "      <td>True</td>\n",
              "    </tr>\n",
              "    <tr>\n",
              "      <th>2019-02-05</th>\n",
              "      <td>169.149994</td>\n",
              "      <td>171.979996</td>\n",
              "      <td>168.690002</td>\n",
              "      <td>171.160004</td>\n",
              "      <td>171.160004</td>\n",
              "      <td>22557000</td>\n",
              "      <td>150.829000</td>\n",
              "      <td>9.232360</td>\n",
              "      <td>169.293719</td>\n",
              "      <td>132.364281</td>\n",
              "      <td>False</td>\n",
              "      <td>True</td>\n",
              "    </tr>\n",
              "    <tr>\n",
              "      <th>...</th>\n",
              "      <td>...</td>\n",
              "      <td>...</td>\n",
              "      <td>...</td>\n",
              "      <td>...</td>\n",
              "      <td>...</td>\n",
              "      <td>...</td>\n",
              "      <td>...</td>\n",
              "      <td>...</td>\n",
              "      <td>...</td>\n",
              "      <td>...</td>\n",
              "      <td>...</td>\n",
              "      <td>...</td>\n",
              "    </tr>\n",
              "    <tr>\n",
              "      <th>2022-04-01</th>\n",
              "      <td>224.550003</td>\n",
              "      <td>227.279999</td>\n",
              "      <td>222.699997</td>\n",
              "      <td>224.850006</td>\n",
              "      <td>224.850006</td>\n",
              "      <td>19533300</td>\n",
              "      <td>208.860002</td>\n",
              "      <td>14.937720</td>\n",
              "      <td>238.735442</td>\n",
              "      <td>178.984563</td>\n",
              "      <td>False</td>\n",
              "      <td>False</td>\n",
              "    </tr>\n",
              "    <tr>\n",
              "      <th>2022-04-04</th>\n",
              "      <td>225.979996</td>\n",
              "      <td>234.350006</td>\n",
              "      <td>225.860001</td>\n",
              "      <td>233.889999</td>\n",
              "      <td>233.889999</td>\n",
              "      <td>28054800</td>\n",
              "      <td>211.181002</td>\n",
              "      <td>15.045198</td>\n",
              "      <td>241.271398</td>\n",
              "      <td>181.090606</td>\n",
              "      <td>False</td>\n",
              "      <td>False</td>\n",
              "    </tr>\n",
              "    <tr>\n",
              "      <th>2022-04-05</th>\n",
              "      <td>234.080002</td>\n",
              "      <td>236.860001</td>\n",
              "      <td>231.020004</td>\n",
              "      <td>231.839996</td>\n",
              "      <td>231.839996</td>\n",
              "      <td>29727200</td>\n",
              "      <td>213.258502</td>\n",
              "      <td>14.876406</td>\n",
              "      <td>243.011313</td>\n",
              "      <td>183.505691</td>\n",
              "      <td>False</td>\n",
              "      <td>False</td>\n",
              "    </tr>\n",
              "    <tr>\n",
              "      <th>2022-04-06</th>\n",
              "      <td>226.910004</td>\n",
              "      <td>228.990005</td>\n",
              "      <td>221.410004</td>\n",
              "      <td>223.300003</td>\n",
              "      <td>223.300003</td>\n",
              "      <td>28995100</td>\n",
              "      <td>214.498502</td>\n",
              "      <td>14.612734</td>\n",
              "      <td>243.723970</td>\n",
              "      <td>185.273035</td>\n",
              "      <td>False</td>\n",
              "      <td>False</td>\n",
              "    </tr>\n",
              "    <tr>\n",
              "      <th>2022-04-07</th>\n",
              "      <td>223.929993</td>\n",
              "      <td>225.520004</td>\n",
              "      <td>218.559998</td>\n",
              "      <td>222.949997</td>\n",
              "      <td>222.949997</td>\n",
              "      <td>21023900</td>\n",
              "      <td>215.885502</td>\n",
              "      <td>13.988744</td>\n",
              "      <td>243.862989</td>\n",
              "      <td>187.908014</td>\n",
              "      <td>False</td>\n",
              "      <td>False</td>\n",
              "    </tr>\n",
              "  </tbody>\n",
              "</table>\n",
              "<p>805 rows × 12 columns</p>\n",
              "</div>\n",
              "      <button class=\"colab-df-convert\" onclick=\"convertToInteractive('df-05c18e1e-92cb-4b91-b9ae-2590c0097ee1')\"\n",
              "              title=\"Convert this dataframe to an interactive table.\"\n",
              "              style=\"display:none;\">\n",
              "        \n",
              "  <svg xmlns=\"http://www.w3.org/2000/svg\" height=\"24px\"viewBox=\"0 0 24 24\"\n",
              "       width=\"24px\">\n",
              "    <path d=\"M0 0h24v24H0V0z\" fill=\"none\"/>\n",
              "    <path d=\"M18.56 5.44l.94 2.06.94-2.06 2.06-.94-2.06-.94-.94-2.06-.94 2.06-2.06.94zm-11 1L8.5 8.5l.94-2.06 2.06-.94-2.06-.94L8.5 2.5l-.94 2.06-2.06.94zm10 10l.94 2.06.94-2.06 2.06-.94-2.06-.94-.94-2.06-.94 2.06-2.06.94z\"/><path d=\"M17.41 7.96l-1.37-1.37c-.4-.4-.92-.59-1.43-.59-.52 0-1.04.2-1.43.59L10.3 9.45l-7.72 7.72c-.78.78-.78 2.05 0 2.83L4 21.41c.39.39.9.59 1.41.59.51 0 1.02-.2 1.41-.59l7.78-7.78 2.81-2.81c.8-.78.8-2.07 0-2.86zM5.41 20L4 18.59l7.72-7.72 1.47 1.35L5.41 20z\"/>\n",
              "  </svg>\n",
              "      </button>\n",
              "      \n",
              "  <style>\n",
              "    .colab-df-container {\n",
              "      display:flex;\n",
              "      flex-wrap:wrap;\n",
              "      gap: 12px;\n",
              "    }\n",
              "\n",
              "    .colab-df-convert {\n",
              "      background-color: #E8F0FE;\n",
              "      border: none;\n",
              "      border-radius: 50%;\n",
              "      cursor: pointer;\n",
              "      display: none;\n",
              "      fill: #1967D2;\n",
              "      height: 32px;\n",
              "      padding: 0 0 0 0;\n",
              "      width: 32px;\n",
              "    }\n",
              "\n",
              "    .colab-df-convert:hover {\n",
              "      background-color: #E2EBFA;\n",
              "      box-shadow: 0px 1px 2px rgba(60, 64, 67, 0.3), 0px 1px 3px 1px rgba(60, 64, 67, 0.15);\n",
              "      fill: #174EA6;\n",
              "    }\n",
              "\n",
              "    [theme=dark] .colab-df-convert {\n",
              "      background-color: #3B4455;\n",
              "      fill: #D2E3FC;\n",
              "    }\n",
              "\n",
              "    [theme=dark] .colab-df-convert:hover {\n",
              "      background-color: #434B5C;\n",
              "      box-shadow: 0px 1px 3px 1px rgba(0, 0, 0, 0.15);\n",
              "      filter: drop-shadow(0px 1px 2px rgba(0, 0, 0, 0.3));\n",
              "      fill: #FFFFFF;\n",
              "    }\n",
              "  </style>\n",
              "\n",
              "      <script>\n",
              "        const buttonEl =\n",
              "          document.querySelector('#df-05c18e1e-92cb-4b91-b9ae-2590c0097ee1 button.colab-df-convert');\n",
              "        buttonEl.style.display =\n",
              "          google.colab.kernel.accessAllowed ? 'block' : 'none';\n",
              "\n",
              "        async function convertToInteractive(key) {\n",
              "          const element = document.querySelector('#df-05c18e1e-92cb-4b91-b9ae-2590c0097ee1');\n",
              "          const dataTable =\n",
              "            await google.colab.kernel.invokeFunction('convertToInteractive',\n",
              "                                                     [key], {});\n",
              "          if (!dataTable) return;\n",
              "\n",
              "          const docLinkHtml = 'Like what you see? Visit the ' +\n",
              "            '<a target=\"_blank\" href=https://colab.research.google.com/notebooks/data_table.ipynb>data table notebook</a>'\n",
              "            + ' to learn more about interactive tables.';\n",
              "          element.innerHTML = '';\n",
              "          dataTable['output_type'] = 'display_data';\n",
              "          await google.colab.output.renderOutput(dataTable, element);\n",
              "          const docLink = document.createElement('div');\n",
              "          docLink.innerHTML = docLinkHtml;\n",
              "          element.appendChild(docLink);\n",
              "        }\n",
              "      </script>\n",
              "    </div>\n",
              "  </div>\n",
              "  "
            ]
          },
          "metadata": {},
          "execution_count": 13
        }
      ]
    },
    {
      "cell_type": "code",
      "source": [
        "plt.figure(figsize=(12, 6))\n",
        "plt.plot(df[['Close', 'SMA', 'Upper', 'Lower']])\n",
        "plt.scatter(df.index[df.Buy_Signal], df[df.Buy_Signal].Close, marker = '^', color='green', s = 100)\n",
        "plt.scatter(df.index[df.Sell_Signal], df[df.Sell_Signal].Close, marker = 'v', color='red', s = 100)\n",
        "plt.fill_between(df.index, df.Upper, df.Lower, color='grey', alpha=0.3)\n",
        "plt.show()"
      ],
      "metadata": {
        "colab": {
          "base_uri": "https://localhost:8080/",
          "height": 374
        },
        "id": "Z3valcqysKM3",
        "outputId": "ae0253a9-ff3d-40c5-a13d-74c4b435d141"
      },
      "execution_count": 14,
      "outputs": [
        {
          "output_type": "display_data",
          "data": {
            "text/plain": [
              "<Figure size 864x432 with 1 Axes>"
            ],
            "image/png": "[encoded data removed]"
          },
          "metadata": {
            "needs_background": "light"
          }
        }
      ]
    },
    {
      "cell_type": "code",
      "source": [
        "buys = []\n",
        "sells = []\n",
        "open_pos = False\n",
        "\n",
        "for i in range(len(df)):\n",
        "  if df.Lower[i] > df.Close[i]:\n",
        "    if open_pos == False:\n",
        "      buys.append(i)\n",
        "      open_pos = True\n",
        "\n",
        "  elif df.Upper[i] < df.Close[i]:\n",
        "    if open_pos:\n",
        "      sells.append(i)\n",
        "      open_pos = False\n"
      ],
      "metadata": {
        "id": "21mXNZ6gsmTz"
      },
      "execution_count": 15,
      "outputs": []
    },
    {
      "cell_type": "code",
      "source": [
        "plt.figure(figsize=(12, 6))\n",
        "plt.plot(df[['Close', 'SMA', 'Upper', 'Lower']])\n",
        "plt.scatter(df.iloc[buys].index, df.iloc[buys].Close, marker = '^', color='green', s = 100)\n",
        "plt.scatter(df.iloc[sells].index, df.iloc[sells].Close, marker = 'v', color='red', s = 100)\n",
        "plt.fill_between(df.index, df.Upper, df.Lower, color='grey', alpha=0.3)\n",
        "plt.show()"
      ],
      "metadata": {
        "colab": {
          "base_uri": "https://localhost:8080/",
          "height": 374
        },
        "id": "PvBB_Xs6weF4",
        "outputId": "dd0b7c96-f281-43f8-bb10-61e47a852b18"
      },
      "execution_count": 16,
      "outputs": [
        {
          "output_type": "display_data",
          "data": {
            "text/plain": [
              "<Figure size 864x432 with 1 Axes>"
            ],
            "image/png": "[encoded data removed]"
          },
          "metadata": {
            "needs_background": "light"
          }
        }
      ]
    },
    {
      "cell_type": "code",
      "source": [
        "merged = pd.concat([df.iloc[buys].Close, df.iloc[sells].Close], axis=1)"
      ],
      "metadata": {
        "id": "EExL7GEexV9Y"
      },
      "execution_count": 17,
      "outputs": []
    },
    {
      "cell_type": "code",
      "source": [
        "merged.columns = ['Buys', 'Sells']\n",
        "merged"
      ],
      "metadata": {
        "colab": {
          "base_uri": "https://localhost:8080/",
          "height": 426
        },
        "id": "2w5poDvHyEC0",
        "outputId": "0b228ac3-4335-47ef-9293-1bdd2b0d4792"
      },
      "execution_count": 18,
      "outputs": [
        {
          "output_type": "execute_result",
          "data": {
            "text/plain": [
              "                  Buys       Sells\n",
              "Date                              \n",
              "2019-06-03  164.149994         NaN\n",
              "2019-11-19         NaN  199.320007\n",
              "2019-12-13  194.110001         NaN\n",
              "2019-12-19         NaN  206.059998\n",
              "2020-01-31  201.910004         NaN\n",
              "2020-04-30         NaN  204.710007\n",
              "2020-06-26  216.080002         NaN\n",
              "2020-07-31         NaN  253.669998\n",
              "2020-12-22  267.089996         NaN\n",
              "2021-03-16         NaN  279.279999\n",
              "2021-09-20  355.700012         NaN"
            ],
            "text/html": [
              "\n",
              "  <div id=\"df-9a41754d-8800-4159-89e0-fec1bf724b17\">\n",
              "    <div class=\"colab-df-container\">\n",
              "      <div>\n",
              "<style scoped>\n",
              "    .dataframe tbody tr th:only-of-type {\n",
              "        vertical-align: middle;\n",
              "    }\n",
              "\n",
              "    .dataframe tbody tr th {\n",
              "        vertical-align: top;\n",
              "    }\n",
              "\n",
              "    .dataframe thead th {\n",
              "        text-align: right;\n",
              "    }\n",
              "</style>\n",
              "<table border=\"1\" class=\"dataframe\">\n",
              "  <thead>\n",
              "    <tr style=\"text-align: right;\">\n",
              "      <th></th>\n",
              "      <th>Buys</th>\n",
              "      <th>Sells</th>\n",
              "    </tr>\n",
              "    <tr>\n",
              "      <th>Date</th>\n",
              "      <th></th>\n",
              "      <th></th>\n",
              "    </tr>\n",
              "  </thead>\n",
              "  <tbody>\n",
              "    <tr>\n",
              "      <th>2019-06-03</th>\n",
              "      <td>164.149994</td>\n",
              "      <td>NaN</td>\n",
              "    </tr>\n",
              "    <tr>\n",
              "      <th>2019-11-19</th>\n",
              "      <td>NaN</td>\n",
              "      <td>199.320007</td>\n",
              "    </tr>\n",
              "    <tr>\n",
              "      <th>2019-12-13</th>\n",
              "      <td>194.110001</td>\n",
              "      <td>NaN</td>\n",
              "    </tr>\n",
              "    <tr>\n",
              "      <th>2019-12-19</th>\n",
              "      <td>NaN</td>\n",
              "      <td>206.059998</td>\n",
              "    </tr>\n",
              "    <tr>\n",
              "      <th>2020-01-31</th>\n",
              "      <td>201.910004</td>\n",
              "      <td>NaN</td>\n",
              "    </tr>\n",
              "    <tr>\n",
              "      <th>2020-04-30</th>\n",
              "      <td>NaN</td>\n",
              "      <td>204.710007</td>\n",
              "    </tr>\n",
              "    <tr>\n",
              "      <th>2020-06-26</th>\n",
              "      <td>216.080002</td>\n",
              "      <td>NaN</td>\n",
              "    </tr>\n",
              "    <tr>\n",
              "      <th>2020-07-31</th>\n",
              "      <td>NaN</td>\n",
              "      <td>253.669998</td>\n",
              "    </tr>\n",
              "    <tr>\n",
              "      <th>2020-12-22</th>\n",
              "      <td>267.089996</td>\n",
              "      <td>NaN</td>\n",
              "    </tr>\n",
              "    <tr>\n",
              "      <th>2021-03-16</th>\n",
              "      <td>NaN</td>\n",
              "      <td>279.279999</td>\n",
              "    </tr>\n",
              "    <tr>\n",
              "      <th>2021-09-20</th>\n",
              "      <td>355.700012</td>\n",
              "      <td>NaN</td>\n",
              "    </tr>\n",
              "  </tbody>\n",
              "</table>\n",
              "</div>\n",
              "      <button class=\"colab-df-convert\" onclick=\"convertToInteractive('df-9a41754d-8800-4159-89e0-fec1bf724b17')\"\n",
              "              title=\"Convert this dataframe to an interactive table.\"\n",
              "              style=\"display:none;\">\n",
              "        \n",
              "  <svg xmlns=\"http://www.w3.org/2000/svg\" height=\"24px\"viewBox=\"0 0 24 24\"\n",
              "       width=\"24px\">\n",
              "    <path d=\"M0 0h24v24H0V0z\" fill=\"none\"/>\n",
              "    <path d=\"M18.56 5.44l.94 2.06.94-2.06 2.06-.94-2.06-.94-.94-2.06-.94 2.06-2.06.94zm-11 1L8.5 8.5l.94-2.06 2.06-.94-2.06-.94L8.5 2.5l-.94 2.06-2.06.94zm10 10l.94 2.06.94-2.06 2.06-.94-2.06-.94-.94-2.06-.94 2.06-2.06.94z\"/><path d=\"M17.41 7.96l-1.37-1.37c-.4-.4-.92-.59-1.43-.59-.52 0-1.04.2-1.43.59L10.3 9.45l-7.72 7.72c-.78.78-.78 2.05 0 2.83L4 21.41c.39.39.9.59 1.41.59.51 0 1.02-.2 1.41-.59l7.78-7.78 2.81-2.81c.8-.78.8-2.07 0-2.86zM5.41 20L4 18.59l7.72-7.72 1.47 1.35L5.41 20z\"/>\n",
              "  </svg>\n",
              "      </button>\n",
              "      \n",
              "  <style>\n",
              "    .colab-df-container {\n",
              "      display:flex;\n",
              "      flex-wrap:wrap;\n",
              "      gap: 12px;\n",
              "    }\n",
              "\n",
              "    .colab-df-convert {\n",
              "      background-color: #E8F0FE;\n",
              "      border: none;\n",
              "      border-radius: 50%;\n",
              "      cursor: pointer;\n",
              "      display: none;\n",
              "      fill: #1967D2;\n",
              "      height: 32px;\n",
              "      padding: 0 0 0 0;\n",
              "      width: 32px;\n",
              "    }\n",
              "\n",
              "    .colab-df-convert:hover {\n",
              "      background-color: #E2EBFA;\n",
              "      box-shadow: 0px 1px 2px rgba(60, 64, 67, 0.3), 0px 1px 3px 1px rgba(60, 64, 67, 0.15);\n",
              "      fill: #174EA6;\n",
              "    }\n",
              "\n",
              "    [theme=dark] .colab-df-convert {\n",
              "      background-color: #3B4455;\n",
              "      fill: #D2E3FC;\n",
              "    }\n",
              "\n",
              "    [theme=dark] .colab-df-convert:hover {\n",
              "      background-color: #434B5C;\n",
              "      box-shadow: 0px 1px 3px 1px rgba(0, 0, 0, 0.15);\n",
              "      filter: drop-shadow(0px 1px 2px rgba(0, 0, 0, 0.3));\n",
              "      fill: #FFFFFF;\n",
              "    }\n",
              "  </style>\n",
              "\n",
              "      <script>\n",
              "        const buttonEl =\n",
              "          document.querySelector('#df-9a41754d-8800-4159-89e0-fec1bf724b17 button.colab-df-convert');\n",
              "        buttonEl.style.display =\n",
              "          google.colab.kernel.accessAllowed ? 'block' : 'none';\n",
              "\n",
              "        async function convertToInteractive(key) {\n",
              "          const element = document.querySelector('#df-9a41754d-8800-4159-89e0-fec1bf724b17');\n",
              "          const dataTable =\n",
              "            await google.colab.kernel.invokeFunction('convertToInteractive',\n",
              "                                                     [key], {});\n",
              "          if (!dataTable) return;\n",
              "\n",
              "          const docLinkHtml = 'Like what you see? Visit the ' +\n",
              "            '<a target=\"_blank\" href=https://colab.research.google.com/notebooks/data_table.ipynb>data table notebook</a>'\n",
              "            + ' to learn more about interactive tables.';\n",
              "          element.innerHTML = '';\n",
              "          dataTable['output_type'] = 'display_data';\n",
              "          await google.colab.output.renderOutput(dataTable, element);\n",
              "          const docLink = document.createElement('div');\n",
              "          docLink.innerHTML = docLinkHtml;\n",
              "          element.appendChild(docLink);\n",
              "        }\n",
              "      </script>\n",
              "    </div>\n",
              "  </div>\n",
              "  "
            ]
          },
          "metadata": {},
          "execution_count": 18
        }
      ]
    },
    {
      "cell_type": "code",
      "source": [
        "totalprofit = merged.shift(-1).Sells - merged.Buys\n",
        "totalprofit"
      ],
      "metadata": {
        "colab": {
          "base_uri": "https://localhost:8080/"
        },
        "id": "pLzPD0WcyKS0",
        "outputId": "c574f062-9510-4379-f885-c4762830f9d9"
      },
      "execution_count": 19,
      "outputs": [
        {
          "output_type": "execute_result",
          "data": {
            "text/plain": [
              "Date\n",
              "2019-06-03    35.170013\n",
              "2019-11-19          NaN\n",
              "2019-12-13    11.949997\n",
              "2019-12-19          NaN\n",
              "2020-01-31     2.800003\n",
              "2020-04-30          NaN\n",
              "2020-06-26    37.589996\n",
              "2020-07-31          NaN\n",
              "2020-12-22    12.190002\n",
              "2021-03-16          NaN\n",
              "2021-09-20          NaN\n",
              "dtype: float64"
            ]
          },
          "metadata": {},
          "execution_count": 19
        }
      ]
    },
    {
      "cell_type": "code",
      "source": [
        "relprofits = (merged.shift(-1).Sells - merged.Buys)/merged.Buys\n",
        "relprofits"
      ],
      "metadata": {
        "colab": {
          "base_uri": "https://localhost:8080/"
        },
        "id": "BWsAzjqlysl0",
        "outputId": "656f51c5-298d-420a-fad7-503fb9c9d404"
      },
      "execution_count": 20,
      "outputs": [
        {
          "output_type": "execute_result",
          "data": {
            "text/plain": [
              "Date\n",
              "2019-06-03    0.214255\n",
              "2019-11-19         NaN\n",
              "2019-12-13    0.061563\n",
              "2019-12-19         NaN\n",
              "2020-01-31    0.013868\n",
              "2020-04-30         NaN\n",
              "2020-06-26    0.173963\n",
              "2020-07-31         NaN\n",
              "2020-12-22    0.045640\n",
              "2021-03-16         NaN\n",
              "2021-09-20         NaN\n",
              "dtype: float64"
            ]
          },
          "metadata": {},
          "execution_count": 20
        }
      ]
    },
    {
      "cell_type": "code",
      "source": [
        "relprofits.mean()"
      ],
      "metadata": {
        "colab": {
          "base_uri": "https://localhost:8080/"
        },
        "id": "FFj4js4LzGns",
        "outputId": "5aca6031-5dcd-4b68-ccbf-6d8e630462a2"
      },
      "execution_count": 21,
      "outputs": [
        {
          "output_type": "execute_result",
          "data": {
            "text/plain": [
              "0.10185786475261346"
            ]
          },
          "metadata": {},
          "execution_count": 21
        }
      ]
    },
    {
      "cell_type": "code",
      "source": [
        ""
      ],
      "metadata": {
        "id": "oP2BNnrXzIkb"
      },
      "execution_count": 21,
      "outputs": []
    }
  ]
}