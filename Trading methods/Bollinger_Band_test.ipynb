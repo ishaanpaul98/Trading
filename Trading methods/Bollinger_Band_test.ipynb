{
  "nbformat": 4,
  "nbformat_minor": 0,
  "metadata": {
    "colab": {
      "name": "Bollinger_Band_test.ipynb",
      "provenance": [],
      "authorship_tag": "ABX9TyNvIRMKRAuzBh1aRy3U/VjV",
      "include_colab_link": true
    },
    "kernelspec": {
      "name": "python3",
      "display_name": "Python 3"
    },
    "language_info": {
      "name": "python"
    }
  },
  "cells": [
    {
      "cell_type": "markdown",
      "metadata": {
        "id": "view-in-github",
        "colab_type": "text"
      },
      "source": [
        "<a href=\"https://colab.research.google.com/github/ishaanpaul98/Trading/blob/main/Trading%20methods/Bollinger_Band_test.ipynb\" target=\"_parent\"><img src=\"https://colab.research.google.com/assets/colab-badge.svg\" alt=\"Open In Colab\"/></a>"
      ]
    },
    {
      "cell_type": "code",
      "source": [
        "#!pip install yfinance"
      ],
      "metadata": {
        "id": "cYN-Pq8Qq7xj"
      },
      "execution_count": null,
      "outputs": []
    },
    {
      "cell_type": "code",
      "execution_count": null,
      "metadata": {
        "id": "QJxZ5bWxqvKg"
      },
      "outputs": [],
      "source": [
        "import yfinance as yf\n",
        "import numpy as np\n",
        "import pandas as pd\n",
        "import matplotlib.pyplot as plt"
      ]
    },
    {
      "cell_type": "code",
      "source": [
        "df = yf.download('AMZN', start = '2011-01-01')"
      ],
      "metadata": {
        "colab": {
          "base_uri": "https://localhost:8080/"
        },
        "id": "PY-fJaAzq28M",
        "outputId": "8b3eaeff-85ce-45f8-d6c5-f84e3f41995c"
      },
      "execution_count": null,
      "outputs": [
        {
          "output_type": "stream",
          "name": "stdout",
          "text": [
            "\r[*********************100%***********************]  1 of 1 completed\n"
          ]
        }
      ]
    },
    {
      "cell_type": "code",
      "source": [
        "df"
      ],
      "metadata": {
        "colab": {
          "base_uri": "https://localhost:8080/",
          "height": 455
        },
        "id": "qgaMNST1rIfY",
        "outputId": "fe4e9bfb-6e51-4c01-e24c-a0838c615f26"
      },
      "execution_count": null,
      "outputs": [
        {
          "output_type": "execute_result",
          "data": {
            "text/plain": [
              "                   Open         High          Low        Close    Adj Close  \\\n",
              "Date                                                                          \n",
              "2011-01-03   181.369995   186.000000   181.210007   184.220001   184.220001   \n",
              "2011-01-04   186.149994   187.699997   183.779999   185.009995   185.009995   \n",
              "2011-01-05   184.100006   187.449997   184.070007   187.419998   187.419998   \n",
              "2011-01-06   186.500000   187.410004   185.250000   185.860001   185.860001   \n",
              "2011-01-07   187.880005   188.449997   183.740005   185.490005   185.490005   \n",
              "...                 ...          ...          ...          ...          ...   \n",
              "2022-04-01  3282.989990  3316.540039  3246.389893  3271.199951  3271.199951   \n",
              "2022-04-04  3282.500000  3367.889893  3264.110107  3366.929932  3366.929932   \n",
              "2022-04-05  3354.830078  3362.209961  3265.320068  3281.100098  3281.100098   \n",
              "2022-04-06  3233.010010  3244.000000  3145.090088  3175.120117  3175.120117   \n",
              "2022-04-07  3168.000000  3201.580078  3090.229980  3155.689941  3155.689941   \n",
              "\n",
              "             Volume  \n",
              "Date                 \n",
              "2011-01-03  5331400  \n",
              "2011-01-04  5031800  \n",
              "2011-01-05  3418800  \n",
              "2011-01-06  3179700  \n",
              "2011-01-07  5221700  \n",
              "...             ...  \n",
              "2022-04-01  2851800  \n",
              "2022-04-04  2494100  \n",
              "2022-04-05  2686400  \n",
              "2022-04-06  3952800  \n",
              "2022-04-07  3399300  \n",
              "\n",
              "[2836 rows x 6 columns]"
            ],
            "text/html": [
              "\n",
              "  <div id=\"df-8c91065a-d545-4d80-b9fd-157c05a5d7d2\">\n",
              "    <div class=\"colab-df-container\">\n",
              "      <div>\n",
              "<style scoped>\n",
              "    .dataframe tbody tr th:only-of-type {\n",
              "        vertical-align: middle;\n",
              "    }\n",
              "\n",
              "    .dataframe tbody tr th {\n",
              "        vertical-align: top;\n",
              "    }\n",
              "\n",
              "    .dataframe thead th {\n",
              "        text-align: right;\n",
              "    }\n",
              "</style>\n",
              "<table border=\"1\" class=\"dataframe\">\n",
              "  <thead>\n",
              "    <tr style=\"text-align: right;\">\n",
              "      <th></th>\n",
              "      <th>Open</th>\n",
              "      <th>High</th>\n",
              "      <th>Low</th>\n",
              "      <th>Close</th>\n",
              "      <th>Adj Close</th>\n",
              "      <th>Volume</th>\n",
              "    </tr>\n",
              "    <tr>\n",
              "      <th>Date</th>\n",
              "      <th></th>\n",
              "      <th></th>\n",
              "      <th></th>\n",
              "      <th></th>\n",
              "      <th></th>\n",
              "      <th></th>\n",
              "    </tr>\n",
              "  </thead>\n",
              "  <tbody>\n",
              "    <tr>\n",
              "      <th>2011-01-03</th>\n",
              "      <td>181.369995</td>\n",
              "      <td>186.000000</td>\n",
              "      <td>181.210007</td>\n",
              "      <td>184.220001</td>\n",
              "      <td>184.220001</td>\n",
              "      <td>5331400</td>\n",
              "    </tr>\n",
              "    <tr>\n",
              "      <th>2011-01-04</th>\n",
              "      <td>186.149994</td>\n",
              "      <td>187.699997</td>\n",
              "      <td>183.779999</td>\n",
              "      <td>185.009995</td>\n",
              "      <td>185.009995</td>\n",
              "      <td>5031800</td>\n",
              "    </tr>\n",
              "    <tr>\n",
              "      <th>2011-01-05</th>\n",
              "      <td>184.100006</td>\n",
              "      <td>187.449997</td>\n",
              "      <td>184.070007</td>\n",
              "      <td>187.419998</td>\n",
              "      <td>187.419998</td>\n",
              "      <td>3418800</td>\n",
              "    </tr>\n",
              "    <tr>\n",
              "      <th>2011-01-06</th>\n",
              "      <td>186.500000</td>\n",
              "      <td>187.410004</td>\n",
              "      <td>185.250000</td>\n",
              "      <td>185.860001</td>\n",
              "      <td>185.860001</td>\n",
              "      <td>3179700</td>\n",
              "    </tr>\n",
              "    <tr>\n",
              "      <th>2011-01-07</th>\n",
              "      <td>187.880005</td>\n",
              "      <td>188.449997</td>\n",
              "      <td>183.740005</td>\n",
              "      <td>185.490005</td>\n",
              "      <td>185.490005</td>\n",
              "      <td>5221700</td>\n",
              "    </tr>\n",
              "    <tr>\n",
              "      <th>...</th>\n",
              "      <td>...</td>\n",
              "      <td>...</td>\n",
              "      <td>...</td>\n",
              "      <td>...</td>\n",
              "      <td>...</td>\n",
              "      <td>...</td>\n",
              "    </tr>\n",
              "    <tr>\n",
              "      <th>2022-04-01</th>\n",
              "      <td>3282.989990</td>\n",
              "      <td>3316.540039</td>\n",
              "      <td>3246.389893</td>\n",
              "      <td>3271.199951</td>\n",
              "      <td>3271.199951</td>\n",
              "      <td>2851800</td>\n",
              "    </tr>\n",
              "    <tr>\n",
              "      <th>2022-04-04</th>\n",
              "      <td>3282.500000</td>\n",
              "      <td>3367.889893</td>\n",
              "      <td>3264.110107</td>\n",
              "      <td>3366.929932</td>\n",
              "      <td>3366.929932</td>\n",
              "      <td>2494100</td>\n",
              "    </tr>\n",
              "    <tr>\n",
              "      <th>2022-04-05</th>\n",
              "      <td>3354.830078</td>\n",
              "      <td>3362.209961</td>\n",
              "      <td>3265.320068</td>\n",
              "      <td>3281.100098</td>\n",
              "      <td>3281.100098</td>\n",
              "      <td>2686400</td>\n",
              "    </tr>\n",
              "    <tr>\n",
              "      <th>2022-04-06</th>\n",
              "      <td>3233.010010</td>\n",
              "      <td>3244.000000</td>\n",
              "      <td>3145.090088</td>\n",
              "      <td>3175.120117</td>\n",
              "      <td>3175.120117</td>\n",
              "      <td>3952800</td>\n",
              "    </tr>\n",
              "    <tr>\n",
              "      <th>2022-04-07</th>\n",
              "      <td>3168.000000</td>\n",
              "      <td>3201.580078</td>\n",
              "      <td>3090.229980</td>\n",
              "      <td>3155.689941</td>\n",
              "      <td>3155.689941</td>\n",
              "      <td>3399300</td>\n",
              "    </tr>\n",
              "  </tbody>\n",
              "</table>\n",
              "<p>2836 rows × 6 columns</p>\n",
              "</div>\n",
              "      <button class=\"colab-df-convert\" onclick=\"convertToInteractive('df-8c91065a-d545-4d80-b9fd-157c05a5d7d2')\"\n",
              "              title=\"Convert this dataframe to an interactive table.\"\n",
              "              style=\"display:none;\">\n",
              "        \n",
              "  <svg xmlns=\"http://www.w3.org/2000/svg\" height=\"24px\"viewBox=\"0 0 24 24\"\n",
              "       width=\"24px\">\n",
              "    <path d=\"M0 0h24v24H0V0z\" fill=\"none\"/>\n",
              "    <path d=\"M18.56 5.44l.94 2.06.94-2.06 2.06-.94-2.06-.94-.94-2.06-.94 2.06-2.06.94zm-11 1L8.5 8.5l.94-2.06 2.06-.94-2.06-.94L8.5 2.5l-.94 2.06-2.06.94zm10 10l.94 2.06.94-2.06 2.06-.94-2.06-.94-.94-2.06-.94 2.06-2.06.94z\"/><path d=\"M17.41 7.96l-1.37-1.37c-.4-.4-.92-.59-1.43-.59-.52 0-1.04.2-1.43.59L10.3 9.45l-7.72 7.72c-.78.78-.78 2.05 0 2.83L4 21.41c.39.39.9.59 1.41.59.51 0 1.02-.2 1.41-.59l7.78-7.78 2.81-2.81c.8-.78.8-2.07 0-2.86zM5.41 20L4 18.59l7.72-7.72 1.47 1.35L5.41 20z\"/>\n",
              "  </svg>\n",
              "      </button>\n",
              "      \n",
              "  <style>\n",
              "    .colab-df-container {\n",
              "      display:flex;\n",
              "      flex-wrap:wrap;\n",
              "      gap: 12px;\n",
              "    }\n",
              "\n",
              "    .colab-df-convert {\n",
              "      background-color: #E8F0FE;\n",
              "      border: none;\n",
              "      border-radius: 50%;\n",
              "      cursor: pointer;\n",
              "      display: none;\n",
              "      fill: #1967D2;\n",
              "      height: 32px;\n",
              "      padding: 0 0 0 0;\n",
              "      width: 32px;\n",
              "    }\n",
              "\n",
              "    .colab-df-convert:hover {\n",
              "      background-color: #E2EBFA;\n",
              "      box-shadow: 0px 1px 2px rgba(60, 64, 67, 0.3), 0px 1px 3px 1px rgba(60, 64, 67, 0.15);\n",
              "      fill: #174EA6;\n",
              "    }\n",
              "\n",
              "    [theme=dark] .colab-df-convert {\n",
              "      background-color: #3B4455;\n",
              "      fill: #D2E3FC;\n",
              "    }\n",
              "\n",
              "    [theme=dark] .colab-df-convert:hover {\n",
              "      background-color: #434B5C;\n",
              "      box-shadow: 0px 1px 3px 1px rgba(0, 0, 0, 0.15);\n",
              "      filter: drop-shadow(0px 1px 2px rgba(0, 0, 0, 0.3));\n",
              "      fill: #FFFFFF;\n",
              "    }\n",
              "  </style>\n",
              "\n",
              "      <script>\n",
              "        const buttonEl =\n",
              "          document.querySelector('#df-8c91065a-d545-4d80-b9fd-157c05a5d7d2 button.colab-df-convert');\n",
              "        buttonEl.style.display =\n",
              "          google.colab.kernel.accessAllowed ? 'block' : 'none';\n",
              "\n",
              "        async function convertToInteractive(key) {\n",
              "          const element = document.querySelector('#df-8c91065a-d545-4d80-b9fd-157c05a5d7d2');\n",
              "          const dataTable =\n",
              "            await google.colab.kernel.invokeFunction('convertToInteractive',\n",
              "                                                     [key], {});\n",
              "          if (!dataTable) return;\n",
              "\n",
              "          const docLinkHtml = 'Like what you see? Visit the ' +\n",
              "            '<a target=\"_blank\" href=https://colab.research.google.com/notebooks/data_table.ipynb>data table notebook</a>'\n",
              "            + ' to learn more about interactive tables.';\n",
              "          element.innerHTML = '';\n",
              "          dataTable['output_type'] = 'display_data';\n",
              "          await google.colab.output.renderOutput(dataTable, element);\n",
              "          const docLink = document.createElement('div');\n",
              "          docLink.innerHTML = docLinkHtml;\n",
              "          element.appendChild(docLink);\n",
              "        }\n",
              "      </script>\n",
              "    </div>\n",
              "  </div>\n",
              "  "
            ]
          },
          "metadata": {},
          "execution_count": 4
        }
      ]
    },
    {
      "cell_type": "code",
      "source": [
        "#Simple Moving Average\n",
        "df['SMA'] = df.Close.rolling(window=200).mean()"
      ],
      "metadata": {
        "id": "jTixPtqLrJth"
      },
      "execution_count": null,
      "outputs": []
    },
    {
      "cell_type": "code",
      "source": [
        "#Standard Deviation\n",
        "df['stddev'] = df.Close.rolling(window=200).std()"
      ],
      "metadata": {
        "id": "adQOWPlArRRG"
      },
      "execution_count": null,
      "outputs": []
    },
    {
      "cell_type": "code",
      "source": [
        "#Upper band\n",
        "df['Upper'] = df.SMA + 2*df.stddev"
      ],
      "metadata": {
        "id": "ppqPLoDorZyr"
      },
      "execution_count": null,
      "outputs": []
    },
    {
      "cell_type": "code",
      "source": [
        "#Lower band\n",
        "df['Lower'] = df.SMA - 2*df.stddev"
      ],
      "metadata": {
        "id": "quMFBu35rk9x"
      },
      "execution_count": null,
      "outputs": []
    },
    {
      "cell_type": "code",
      "source": [
        "#Buying signals\n",
        "df['Buy_Signal'] = np.where(df.Lower > df.Close, True, False)"
      ],
      "metadata": {
        "id": "ZhCd1yw_rpUK"
      },
      "execution_count": null,
      "outputs": []
    },
    {
      "cell_type": "code",
      "source": [
        "#Selling signals\n",
        "df['Sell_Signal'] = np.where(df.Upper < df.Close, True, False)"
      ],
      "metadata": {
        "id": "YMcWyWDyr0RP"
      },
      "execution_count": null,
      "outputs": []
    },
    {
      "cell_type": "code",
      "source": [
        "df = df.dropna()"
      ],
      "metadata": {
        "id": "Dh49yafir6Dj"
      },
      "execution_count": null,
      "outputs": []
    },
    {
      "cell_type": "code",
      "source": [
        "df"
      ],
      "metadata": {
        "colab": {
          "base_uri": "https://localhost:8080/",
          "height": 455
        },
        "id": "cMajYKhZsCkW",
        "outputId": "c0a2e9c1-828e-4742-d83a-96a93cc9f021"
      },
      "execution_count": null,
      "outputs": [
        {
          "output_type": "execute_result",
          "data": {
            "text/plain": [
              "                   Open         High          Low        Close    Adj Close  \\\n",
              "Date                                                                          \n",
              "2011-10-17   244.289993   246.710007   240.669998   242.330002   242.330002   \n",
              "2011-10-18   242.309998   244.610001   236.619995   243.880005   243.880005   \n",
              "2011-10-19   240.669998   243.330002   229.250000   231.529999   231.529999   \n",
              "2011-10-20   232.130005   234.740005   229.800003   233.610001   233.610001   \n",
              "2011-10-21   236.910004   237.000000   230.600006   234.779999   234.779999   \n",
              "...                 ...          ...          ...          ...          ...   \n",
              "2022-04-01  3282.989990  3316.540039  3246.389893  3271.199951  3271.199951   \n",
              "2022-04-04  3282.500000  3367.889893  3264.110107  3366.929932  3366.929932   \n",
              "2022-04-05  3354.830078  3362.209961  3265.320068  3281.100098  3281.100098   \n",
              "2022-04-06  3233.010010  3244.000000  3145.090088  3175.120117  3175.120117   \n",
              "2022-04-07  3168.000000  3201.580078  3090.229980  3155.689941  3155.689941   \n",
              "\n",
              "             Volume          SMA      stddev        Upper        Lower  \\\n",
              "Date                                                                     \n",
              "2011-10-17  4779000   195.695350   19.109593   233.914535   157.476165   \n",
              "2011-10-18  4609700   195.993650   19.393105   234.779860   157.207440   \n",
              "2011-10-19  6715100   196.226250   19.539135   235.304520   157.147980   \n",
              "2011-10-20  4524900   196.457200   19.706784   235.870768   157.043632   \n",
              "2011-10-21  4572500   196.701800   19.877448   236.456697   156.946903   \n",
              "...             ...          ...         ...          ...          ...   \n",
              "2022-04-01  2851800  3329.311160  217.073818  3763.458796  2895.163524   \n",
              "2022-04-04  2494100  3328.711310  216.801746  3762.314803  2895.107817   \n",
              "2022-04-05  2686400  3327.847010  216.644426  3761.135862  2894.558159   \n",
              "2022-04-06  3952800  3326.195411  216.542815  3759.281041  2893.109782   \n",
              "2022-04-07  3399300  3324.454761  216.507024  3757.468808  2891.440713   \n",
              "\n",
              "            Buy_Signal  Sell_Signal  \n",
              "Date                                 \n",
              "2011-10-17       False         True  \n",
              "2011-10-18       False         True  \n",
              "2011-10-19       False        False  \n",
              "2011-10-20       False        False  \n",
              "2011-10-21       False        False  \n",
              "...                ...          ...  \n",
              "2022-04-01       False        False  \n",
              "2022-04-04       False        False  \n",
              "2022-04-05       False        False  \n",
              "2022-04-06       False        False  \n",
              "2022-04-07       False        False  \n",
              "\n",
              "[2637 rows x 12 columns]"
            ],
            "text/html": [
              "\n",
              "  <div id=\"df-0e2be3a5-a54d-4927-afe0-c03a401619f5\">\n",
              "    <div class=\"colab-df-container\">\n",
              "      <div>\n",
              "<style scoped>\n",
              "    .dataframe tbody tr th:only-of-type {\n",
              "        vertical-align: middle;\n",
              "    }\n",
              "\n",
              "    .dataframe tbody tr th {\n",
              "        vertical-align: top;\n",
              "    }\n",
              "\n",
              "    .dataframe thead th {\n",
              "        text-align: right;\n",
              "    }\n",
              "</style>\n",
              "<table border=\"1\" class=\"dataframe\">\n",
              "  <thead>\n",
              "    <tr style=\"text-align: right;\">\n",
              "      <th></th>\n",
              "      <th>Open</th>\n",
              "      <th>High</th>\n",
              "      <th>Low</th>\n",
              "      <th>Close</th>\n",
              "      <th>Adj Close</th>\n",
              "      <th>Volume</th>\n",
              "      <th>SMA</th>\n",
              "      <th>stddev</th>\n",
              "      <th>Upper</th>\n",
              "      <th>Lower</th>\n",
              "      <th>Buy_Signal</th>\n",
              "      <th>Sell_Signal</th>\n",
              "    </tr>\n",
              "    <tr>\n",
              "      <th>Date</th>\n",
              "      <th></th>\n",
              "      <th></th>\n",
              "      <th></th>\n",
              "      <th></th>\n",
              "      <th></th>\n",
              "      <th></th>\n",
              "      <th></th>\n",
              "      <th></th>\n",
              "      <th></th>\n",
              "      <th></th>\n",
              "      <th></th>\n",
              "      <th></th>\n",
              "    </tr>\n",
              "  </thead>\n",
              "  <tbody>\n",
              "    <tr>\n",
              "      <th>2011-10-17</th>\n",
              "      <td>244.289993</td>\n",
              "      <td>246.710007</td>\n",
              "      <td>240.669998</td>\n",
              "      <td>242.330002</td>\n",
              "      <td>242.330002</td>\n",
              "      <td>4779000</td>\n",
              "      <td>195.695350</td>\n",
              "      <td>19.109593</td>\n",
              "      <td>233.914535</td>\n",
              "      <td>157.476165</td>\n",
              "      <td>False</td>\n",
              "      <td>True</td>\n",
              "    </tr>\n",
              "    <tr>\n",
              "      <th>2011-10-18</th>\n",
              "      <td>242.309998</td>\n",
              "      <td>244.610001</td>\n",
              "      <td>236.619995</td>\n",
              "      <td>243.880005</td>\n",
              "      <td>243.880005</td>\n",
              "      <td>4609700</td>\n",
              "      <td>195.993650</td>\n",
              "      <td>19.393105</td>\n",
              "      <td>234.779860</td>\n",
              "      <td>157.207440</td>\n",
              "      <td>False</td>\n",
              "      <td>True</td>\n",
              "    </tr>\n",
              "    <tr>\n",
              "      <th>2011-10-19</th>\n",
              "      <td>240.669998</td>\n",
              "      <td>243.330002</td>\n",
              "      <td>229.250000</td>\n",
              "      <td>231.529999</td>\n",
              "      <td>231.529999</td>\n",
              "      <td>6715100</td>\n",
              "      <td>196.226250</td>\n",
              "      <td>19.539135</td>\n",
              "      <td>235.304520</td>\n",
              "      <td>157.147980</td>\n",
              "      <td>False</td>\n",
              "      <td>False</td>\n",
              "    </tr>\n",
              "    <tr>\n",
              "      <th>2011-10-20</th>\n",
              "      <td>232.130005</td>\n",
              "      <td>234.740005</td>\n",
              "      <td>229.800003</td>\n",
              "      <td>233.610001</td>\n",
              "      <td>233.610001</td>\n",
              "      <td>4524900</td>\n",
              "      <td>196.457200</td>\n",
              "      <td>19.706784</td>\n",
              "      <td>235.870768</td>\n",
              "      <td>157.043632</td>\n",
              "      <td>False</td>\n",
              "      <td>False</td>\n",
              "    </tr>\n",
              "    <tr>\n",
              "      <th>2011-10-21</th>\n",
              "      <td>236.910004</td>\n",
              "      <td>237.000000</td>\n",
              "      <td>230.600006</td>\n",
              "      <td>234.779999</td>\n",
              "      <td>234.779999</td>\n",
              "      <td>4572500</td>\n",
              "      <td>196.701800</td>\n",
              "      <td>19.877448</td>\n",
              "      <td>236.456697</td>\n",
              "      <td>156.946903</td>\n",
              "      <td>False</td>\n",
              "      <td>False</td>\n",
              "    </tr>\n",
              "    <tr>\n",
              "      <th>...</th>\n",
              "      <td>...</td>\n",
              "      <td>...</td>\n",
              "      <td>...</td>\n",
              "      <td>...</td>\n",
              "      <td>...</td>\n",
              "      <td>...</td>\n",
              "      <td>...</td>\n",
              "      <td>...</td>\n",
              "      <td>...</td>\n",
              "      <td>...</td>\n",
              "      <td>...</td>\n",
              "      <td>...</td>\n",
              "    </tr>\n",
              "    <tr>\n",
              "      <th>2022-04-01</th>\n",
              "      <td>3282.989990</td>\n",
              "      <td>3316.540039</td>\n",
              "      <td>3246.389893</td>\n",
              "      <td>3271.199951</td>\n",
              "      <td>3271.199951</td>\n",
              "      <td>2851800</td>\n",
              "      <td>3329.311160</td>\n",
              "      <td>217.073818</td>\n",
              "      <td>3763.458796</td>\n",
              "      <td>2895.163524</td>\n",
              "      <td>False</td>\n",
              "      <td>False</td>\n",
              "    </tr>\n",
              "    <tr>\n",
              "      <th>2022-04-04</th>\n",
              "      <td>3282.500000</td>\n",
              "      <td>3367.889893</td>\n",
              "      <td>3264.110107</td>\n",
              "      <td>3366.929932</td>\n",
              "      <td>3366.929932</td>\n",
              "      <td>2494100</td>\n",
              "      <td>3328.711310</td>\n",
              "      <td>216.801746</td>\n",
              "      <td>3762.314803</td>\n",
              "      <td>2895.107817</td>\n",
              "      <td>False</td>\n",
              "      <td>False</td>\n",
              "    </tr>\n",
              "    <tr>\n",
              "      <th>2022-04-05</th>\n",
              "      <td>3354.830078</td>\n",
              "      <td>3362.209961</td>\n",
              "      <td>3265.320068</td>\n",
              "      <td>3281.100098</td>\n",
              "      <td>3281.100098</td>\n",
              "      <td>2686400</td>\n",
              "      <td>3327.847010</td>\n",
              "      <td>216.644426</td>\n",
              "      <td>3761.135862</td>\n",
              "      <td>2894.558159</td>\n",
              "      <td>False</td>\n",
              "      <td>False</td>\n",
              "    </tr>\n",
              "    <tr>\n",
              "      <th>2022-04-06</th>\n",
              "      <td>3233.010010</td>\n",
              "      <td>3244.000000</td>\n",
              "      <td>3145.090088</td>\n",
              "      <td>3175.120117</td>\n",
              "      <td>3175.120117</td>\n",
              "      <td>3952800</td>\n",
              "      <td>3326.195411</td>\n",
              "      <td>216.542815</td>\n",
              "      <td>3759.281041</td>\n",
              "      <td>2893.109782</td>\n",
              "      <td>False</td>\n",
              "      <td>False</td>\n",
              "    </tr>\n",
              "    <tr>\n",
              "      <th>2022-04-07</th>\n",
              "      <td>3168.000000</td>\n",
              "      <td>3201.580078</td>\n",
              "      <td>3090.229980</td>\n",
              "      <td>3155.689941</td>\n",
              "      <td>3155.689941</td>\n",
              "      <td>3399300</td>\n",
              "      <td>3324.454761</td>\n",
              "      <td>216.507024</td>\n",
              "      <td>3757.468808</td>\n",
              "      <td>2891.440713</td>\n",
              "      <td>False</td>\n",
              "      <td>False</td>\n",
              "    </tr>\n",
              "  </tbody>\n",
              "</table>\n",
              "<p>2637 rows × 12 columns</p>\n",
              "</div>\n",
              "      <button class=\"colab-df-convert\" onclick=\"convertToInteractive('df-0e2be3a5-a54d-4927-afe0-c03a401619f5')\"\n",
              "              title=\"Convert this dataframe to an interactive table.\"\n",
              "              style=\"display:none;\">\n",
              "        \n",
              "  <svg xmlns=\"http://www.w3.org/2000/svg\" height=\"24px\"viewBox=\"0 0 24 24\"\n",
              "       width=\"24px\">\n",
              "    <path d=\"M0 0h24v24H0V0z\" fill=\"none\"/>\n",
              "    <path d=\"M18.56 5.44l.94 2.06.94-2.06 2.06-.94-2.06-.94-.94-2.06-.94 2.06-2.06.94zm-11 1L8.5 8.5l.94-2.06 2.06-.94-2.06-.94L8.5 2.5l-.94 2.06-2.06.94zm10 10l.94 2.06.94-2.06 2.06-.94-2.06-.94-.94-2.06-.94 2.06-2.06.94z\"/><path d=\"M17.41 7.96l-1.37-1.37c-.4-.4-.92-.59-1.43-.59-.52 0-1.04.2-1.43.59L10.3 9.45l-7.72 7.72c-.78.78-.78 2.05 0 2.83L4 21.41c.39.39.9.59 1.41.59.51 0 1.02-.2 1.41-.59l7.78-7.78 2.81-2.81c.8-.78.8-2.07 0-2.86zM5.41 20L4 18.59l7.72-7.72 1.47 1.35L5.41 20z\"/>\n",
              "  </svg>\n",
              "      </button>\n",
              "      \n",
              "  <style>\n",
              "    .colab-df-container {\n",
              "      display:flex;\n",
              "      flex-wrap:wrap;\n",
              "      gap: 12px;\n",
              "    }\n",
              "\n",
              "    .colab-df-convert {\n",
              "      background-color: #E8F0FE;\n",
              "      border: none;\n",
              "      border-radius: 50%;\n",
              "      cursor: pointer;\n",
              "      display: none;\n",
              "      fill: #1967D2;\n",
              "      height: 32px;\n",
              "      padding: 0 0 0 0;\n",
              "      width: 32px;\n",
              "    }\n",
              "\n",
              "    .colab-df-convert:hover {\n",
              "      background-color: #E2EBFA;\n",
              "      box-shadow: 0px 1px 2px rgba(60, 64, 67, 0.3), 0px 1px 3px 1px rgba(60, 64, 67, 0.15);\n",
              "      fill: #174EA6;\n",
              "    }\n",
              "\n",
              "    [theme=dark] .colab-df-convert {\n",
              "      background-color: #3B4455;\n",
              "      fill: #D2E3FC;\n",
              "    }\n",
              "\n",
              "    [theme=dark] .colab-df-convert:hover {\n",
              "      background-color: #434B5C;\n",
              "      box-shadow: 0px 1px 3px 1px rgba(0, 0, 0, 0.15);\n",
              "      filter: drop-shadow(0px 1px 2px rgba(0, 0, 0, 0.3));\n",
              "      fill: #FFFFFF;\n",
              "    }\n",
              "  </style>\n",
              "\n",
              "      <script>\n",
              "        const buttonEl =\n",
              "          document.querySelector('#df-0e2be3a5-a54d-4927-afe0-c03a401619f5 button.colab-df-convert');\n",
              "        buttonEl.style.display =\n",
              "          google.colab.kernel.accessAllowed ? 'block' : 'none';\n",
              "\n",
              "        async function convertToInteractive(key) {\n",
              "          const element = document.querySelector('#df-0e2be3a5-a54d-4927-afe0-c03a401619f5');\n",
              "          const dataTable =\n",
              "            await google.colab.kernel.invokeFunction('convertToInteractive',\n",
              "                                                     [key], {});\n",
              "          if (!dataTable) return;\n",
              "\n",
              "          const docLinkHtml = 'Like what you see? Visit the ' +\n",
              "            '<a target=\"_blank\" href=https://colab.research.google.com/notebooks/data_table.ipynb>data table notebook</a>'\n",
              "            + ' to learn more about interactive tables.';\n",
              "          element.innerHTML = '';\n",
              "          dataTable['output_type'] = 'display_data';\n",
              "          await google.colab.output.renderOutput(dataTable, element);\n",
              "          const docLink = document.createElement('div');\n",
              "          docLink.innerHTML = docLinkHtml;\n",
              "          element.appendChild(docLink);\n",
              "        }\n",
              "      </script>\n",
              "    </div>\n",
              "  </div>\n",
              "  "
            ]
          },
          "metadata": {},
          "execution_count": 12
        }
      ]
    },
    {
      "cell_type": "code",
      "source": [
        "plt.figure(figsize=(12, 6))\n",
        "plt.plot(df[['Close', 'SMA', 'Upper', 'Lower']])\n",
        "plt.scatter(df.index[df.Buy_Signal], df[df.Buy_Signal].Close, marker = '^', color='green', s = 100)\n",
        "plt.scatter(df.index[df.Sell_Signal], df[df.Sell_Signal].Close, marker = 'v', color='red', s = 100)\n",
        "plt.fill_between(df.index, df.Upper, df.Lower, color='grey', alpha=0.3)\n",
        "plt.show()"
      ],
      "metadata": {
        "colab": {
          "base_uri": "https://localhost:8080/",
          "height": 374
        },
        "id": "Z3valcqysKM3",
        "outputId": "dbff19a8-72c3-46f7-c74b-5cad10b6c8fa"
      },
      "execution_count": null,
      "outputs": [
        {
          "output_type": "display_data",
          "data": {
            "text/plain": [
              "<Figure size 864x432 with 1 Axes>"
            ],
            "image/png": "[encoded data removed]"
          },
          "metadata": {
            "needs_background": "light"
          }
        }
      ]
    },
    {
      "cell_type": "code",
      "source": [
        "buys = []\n",
        "sells = []\n",
        "open_pos = False\n",
        "\n",
        "for i in range(len(df)):\n",
        "  if df.Lower[i] > df.Close[i]:\n",
        "    if open_pos == False:\n",
        "      buys.append(i)\n",
        "      open_pos = True\n",
        "\n",
        "  elif df.Upper[i] < df.Close[i]:\n",
        "    if open_pos:\n",
        "      sells.append(i)\n",
        "      open_pos = False\n"
      ],
      "metadata": {
        "id": "21mXNZ6gsmTz"
      },
      "execution_count": null,
      "outputs": []
    },
    {
      "cell_type": "code",
      "source": [
        "plt.figure(figsize=(12, 6))\n",
        "plt.plot(df[['Close', 'SMA', 'Upper', 'Lower']])\n",
        "plt.scatter(df.iloc[buys].index, df.iloc[buys].Close, marker = '^', color='green', s = 100)\n",
        "plt.scatter(df.iloc[sells].index, df.iloc[sells].Close, marker = 'v', color='red', s = 100)\n",
        "plt.fill_between(df.index, df.Upper, df.Lower, color='grey', alpha=0.3)\n",
        "plt.show()"
      ],
      "metadata": {
        "colab": {
          "base_uri": "https://localhost:8080/",
          "height": 374
        },
        "id": "PvBB_Xs6weF4",
        "outputId": "99860f34-0d3b-4b3f-af2d-fc1b9d81e7ff"
      },
      "execution_count": null,
      "outputs": [
        {
          "output_type": "display_data",
          "data": {
            "text/plain": [
              "<Figure size 864x432 with 1 Axes>"
            ],
            "image/png": "[encoded data removed]"
          },
          "metadata": {
            "needs_background": "light"
          }
        }
      ]
    },
    {
      "cell_type": "code",
      "source": [
        "merged = pd.concat([df.iloc[buys].Close, df.iloc[sells].Close], axis=1)"
      ],
      "metadata": {
        "id": "EExL7GEexV9Y"
      },
      "execution_count": null,
      "outputs": []
    },
    {
      "cell_type": "code",
      "source": [
        "merged.columns = ['Buys', 'Sells']\n",
        "merged"
      ],
      "metadata": {
        "colab": {
          "base_uri": "https://localhost:8080/",
          "height": 175
        },
        "id": "2w5poDvHyEC0",
        "outputId": "39f74a92-b76c-4fc2-e24b-1a2797e5e59c"
      },
      "execution_count": null,
      "outputs": [
        {
          "output_type": "execute_result",
          "data": {
            "text/plain": [
              "                   Buys        Sells\n",
              "Date                                \n",
              "2018-12-24  1343.959961          NaN\n",
              "2020-01-31          NaN  2008.719971\n",
              "2022-01-19  3125.979980          NaN"
            ],
            "text/html": [
              "\n",
              "  <div id=\"df-91407ff2-8a59-445e-80bb-7eb62efd76cb\">\n",
              "    <div class=\"colab-df-container\">\n",
              "      <div>\n",
              "<style scoped>\n",
              "    .dataframe tbody tr th:only-of-type {\n",
              "        vertical-align: middle;\n",
              "    }\n",
              "\n",
              "    .dataframe tbody tr th {\n",
              "        vertical-align: top;\n",
              "    }\n",
              "\n",
              "    .dataframe thead th {\n",
              "        text-align: right;\n",
              "    }\n",
              "</style>\n",
              "<table border=\"1\" class=\"dataframe\">\n",
              "  <thead>\n",
              "    <tr style=\"text-align: right;\">\n",
              "      <th></th>\n",
              "      <th>Buys</th>\n",
              "      <th>Sells</th>\n",
              "    </tr>\n",
              "    <tr>\n",
              "      <th>Date</th>\n",
              "      <th></th>\n",
              "      <th></th>\n",
              "    </tr>\n",
              "  </thead>\n",
              "  <tbody>\n",
              "    <tr>\n",
              "      <th>2018-12-24</th>\n",
              "      <td>1343.959961</td>\n",
              "      <td>NaN</td>\n",
              "    </tr>\n",
              "    <tr>\n",
              "      <th>2020-01-31</th>\n",
              "      <td>NaN</td>\n",
              "      <td>2008.719971</td>\n",
              "    </tr>\n",
              "    <tr>\n",
              "      <th>2022-01-19</th>\n",
              "      <td>3125.979980</td>\n",
              "      <td>NaN</td>\n",
              "    </tr>\n",
              "  </tbody>\n",
              "</table>\n",
              "</div>\n",
              "      <button class=\"colab-df-convert\" onclick=\"convertToInteractive('df-91407ff2-8a59-445e-80bb-7eb62efd76cb')\"\n",
              "              title=\"Convert this dataframe to an interactive table.\"\n",
              "              style=\"display:none;\">\n",
              "        \n",
              "  <svg xmlns=\"http://www.w3.org/2000/svg\" height=\"24px\"viewBox=\"0 0 24 24\"\n",
              "       width=\"24px\">\n",
              "    <path d=\"M0 0h24v24H0V0z\" fill=\"none\"/>\n",
              "    <path d=\"M18.56 5.44l.94 2.06.94-2.06 2.06-.94-2.06-.94-.94-2.06-.94 2.06-2.06.94zm-11 1L8.5 8.5l.94-2.06 2.06-.94-2.06-.94L8.5 2.5l-.94 2.06-2.06.94zm10 10l.94 2.06.94-2.06 2.06-.94-2.06-.94-.94-2.06-.94 2.06-2.06.94z\"/><path d=\"M17.41 7.96l-1.37-1.37c-.4-.4-.92-.59-1.43-.59-.52 0-1.04.2-1.43.59L10.3 9.45l-7.72 7.72c-.78.78-.78 2.05 0 2.83L4 21.41c.39.39.9.59 1.41.59.51 0 1.02-.2 1.41-.59l7.78-7.78 2.81-2.81c.8-.78.8-2.07 0-2.86zM5.41 20L4 18.59l7.72-7.72 1.47 1.35L5.41 20z\"/>\n",
              "  </svg>\n",
              "      </button>\n",
              "      \n",
              "  <style>\n",
              "    .colab-df-container {\n",
              "      display:flex;\n",
              "      flex-wrap:wrap;\n",
              "      gap: 12px;\n",
              "    }\n",
              "\n",
              "    .colab-df-convert {\n",
              "      background-color: #E8F0FE;\n",
              "      border: none;\n",
              "      border-radius: 50%;\n",
              "      cursor: pointer;\n",
              "      display: none;\n",
              "      fill: #1967D2;\n",
              "      height: 32px;\n",
              "      padding: 0 0 0 0;\n",
              "      width: 32px;\n",
              "    }\n",
              "\n",
              "    .colab-df-convert:hover {\n",
              "      background-color: #E2EBFA;\n",
              "      box-shadow: 0px 1px 2px rgba(60, 64, 67, 0.3), 0px 1px 3px 1px rgba(60, 64, 67, 0.15);\n",
              "      fill: #174EA6;\n",
              "    }\n",
              "\n",
              "    [theme=dark] .colab-df-convert {\n",
              "      background-color: #3B4455;\n",
              "      fill: #D2E3FC;\n",
              "    }\n",
              "\n",
              "    [theme=dark] .colab-df-convert:hover {\n",
              "      background-color: #434B5C;\n",
              "      box-shadow: 0px 1px 3px 1px rgba(0, 0, 0, 0.15);\n",
              "      filter: drop-shadow(0px 1px 2px rgba(0, 0, 0, 0.3));\n",
              "      fill: #FFFFFF;\n",
              "    }\n",
              "  </style>\n",
              "\n",
              "      <script>\n",
              "        const buttonEl =\n",
              "          document.querySelector('#df-91407ff2-8a59-445e-80bb-7eb62efd76cb button.colab-df-convert');\n",
              "        buttonEl.style.display =\n",
              "          google.colab.kernel.accessAllowed ? 'block' : 'none';\n",
              "\n",
              "        async function convertToInteractive(key) {\n",
              "          const element = document.querySelector('#df-91407ff2-8a59-445e-80bb-7eb62efd76cb');\n",
              "          const dataTable =\n",
              "            await google.colab.kernel.invokeFunction('convertToInteractive',\n",
              "                                                     [key], {});\n",
              "          if (!dataTable) return;\n",
              "\n",
              "          const docLinkHtml = 'Like what you see? Visit the ' +\n",
              "            '<a target=\"_blank\" href=https://colab.research.google.com/notebooks/data_table.ipynb>data table notebook</a>'\n",
              "            + ' to learn more about interactive tables.';\n",
              "          element.innerHTML = '';\n",
              "          dataTable['output_type'] = 'display_data';\n",
              "          await google.colab.output.renderOutput(dataTable, element);\n",
              "          const docLink = document.createElement('div');\n",
              "          docLink.innerHTML = docLinkHtml;\n",
              "          element.appendChild(docLink);\n",
              "        }\n",
              "      </script>\n",
              "    </div>\n",
              "  </div>\n",
              "  "
            ]
          },
          "metadata": {},
          "execution_count": 17
        }
      ]
    },
    {
      "cell_type": "code",
      "source": [
        "totalprofit = merged.shift(-1).Sells - merged.Buys\n",
        "totalprofit"
      ],
      "metadata": {
        "colab": {
          "base_uri": "https://localhost:8080/"
        },
        "id": "pLzPD0WcyKS0",
        "outputId": "16747dda-d886-4e3e-f36a-265ebe175688"
      },
      "execution_count": null,
      "outputs": [
        {
          "output_type": "execute_result",
          "data": {
            "text/plain": [
              "Date\n",
              "2018-12-24    664.76001\n",
              "2020-01-31          NaN\n",
              "2022-01-19          NaN\n",
              "dtype: float64"
            ]
          },
          "metadata": {},
          "execution_count": 18
        }
      ]
    },
    {
      "cell_type": "code",
      "source": [
        "relprofits = (merged.shift(-1).Sells - merged.Buys)/merged.Buys\n",
        "relprofits"
      ],
      "metadata": {
        "colab": {
          "base_uri": "https://localhost:8080/"
        },
        "id": "BWsAzjqlysl0",
        "outputId": "c1e427ba-b238-4e61-f59a-625acf11e2d5"
      },
      "execution_count": null,
      "outputs": [
        {
          "output_type": "execute_result",
          "data": {
            "text/plain": [
              "Date\n",
              "2018-12-24    0.494628\n",
              "2020-01-31         NaN\n",
              "2022-01-19         NaN\n",
              "dtype: float64"
            ]
          },
          "metadata": {},
          "execution_count": 19
        }
      ]
    },
    {
      "cell_type": "code",
      "source": [
        "relprofits.mean()"
      ],
      "metadata": {
        "colab": {
          "base_uri": "https://localhost:8080/"
        },
        "id": "FFj4js4LzGns",
        "outputId": "5835c92a-8a90-45e5-8ef6-aa00349dcd4c"
      },
      "execution_count": null,
      "outputs": [
        {
          "output_type": "execute_result",
          "data": {
            "text/plain": [
              "0.49462783794683246"
            ]
          },
          "metadata": {},
          "execution_count": 20
        }
      ]
    },
    {
      "cell_type": "code",
      "source": [
        ""
      ],
      "metadata": {
        "id": "oP2BNnrXzIkb"
      },
      "execution_count": null,
      "outputs": []
    }
  ]
}